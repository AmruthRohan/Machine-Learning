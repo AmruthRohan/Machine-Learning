{
 "cells": [
  {
   "cell_type": "code",
   "execution_count": 2,
   "id": "85de7efd-32dd-4d13-8ff0-929003165f51",
   "metadata": {},
   "outputs": [
    {
     "data": {
      "text/plain": [
       "0    1\n",
       "1    2\n",
       "2    3\n",
       "dtype: int64"
      ]
     },
     "execution_count": 2,
     "metadata": {},
     "output_type": "execute_result"
    }
   ],
   "source": [
    "import pandas as pd\n",
    "import numpy as np\n",
    "\n",
    "x=[1,2,3]\n",
    "a=pd.Series(x)\n",
    "a"
   ]
  },
  {
   "cell_type": "code",
   "execution_count": 3,
   "id": "9befae43-592c-4257-8a60-dd1350711c07",
   "metadata": {},
   "outputs": [],
   "source": [
    "#Adding labels"
   ]
  },
  {
   "cell_type": "code",
   "execution_count": 7,
   "id": "d82f4fe1-e4d8-440e-96c4-91091e93bc0e",
   "metadata": {},
   "outputs": [
    {
     "data": {
      "text/plain": [
       "a    1\n",
       "b    2\n",
       "c    3\n",
       "dtype: int64"
      ]
     },
     "execution_count": 7,
     "metadata": {},
     "output_type": "execute_result"
    }
   ],
   "source": [
    "my_index=[\"a\",\"b\",\"c\"]\n",
    "a1=pd.Series(x, my_index)\n",
    "a1"
   ]
  },
  {
   "cell_type": "code",
   "execution_count": null,
   "id": "3341e218-623f-447a-81eb-87a30adac3dc",
   "metadata": {},
   "outputs": [],
   "source": [
    "#same indexing using python dict\n",
    "\n",
    "cars = {\"\"}"
   ]
  }
 ],
 "metadata": {
  "kernelspec": {
   "display_name": "Python 3 (ipykernel)",
   "language": "python",
   "name": "python3"
  },
  "language_info": {
   "codemirror_mode": {
    "name": "ipython",
    "version": 3
   },
   "file_extension": ".py",
   "mimetype": "text/x-python",
   "name": "python",
   "nbconvert_exporter": "python",
   "pygments_lexer": "ipython3",
   "version": "3.13.1"
  }
 },
 "nbformat": 4,
 "nbformat_minor": 5
}
